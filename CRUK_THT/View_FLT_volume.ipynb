{
 "cells": [
  {
   "cell_type": "code",
   "execution_count": 1,
   "id": "6cab56e5",
   "metadata": {},
   "outputs": [
    {
     "name": "stdout",
     "output_type": "stream",
     "text": [
      "/home/cruk/Documents/PyWS_CRUK/CRUK_Image_Analysis/Test_Data/Tumour/Row-5_Col-11_20230224/FLT_IMG_DIR_4/0.mat\n",
      "/home/cruk/Documents/PyWS_CRUK/CRUK_Image_Analysis/Test_Data/Tumour/Row-5_Col-11_20230224/FLT_IMG_DIR_4/1.mat\n",
      "/home/cruk/Documents/PyWS_CRUK/CRUK_Image_Analysis/Test_Data/Tumour/Row-5_Col-11_20230224/FLT_IMG_DIR_4/2.mat\n",
      "/home/cruk/Documents/PyWS_CRUK/CRUK_Image_Analysis/Test_Data/Tumour/Row-5_Col-11_20230224/FLT_IMG_DIR_4/3.mat\n",
      "/home/cruk/Documents/PyWS_CRUK/CRUK_Image_Analysis/Test_Data/Tumour/Row-5_Col-11_20230224/FLT_IMG_DIR_4/4.mat\n",
      "/home/cruk/Documents/PyWS_CRUK/CRUK_Image_Analysis/Test_Data/Tumour/Row-5_Col-11_20230224/FLT_IMG_DIR_4/5.mat\n",
      "/home/cruk/Documents/PyWS_CRUK/CRUK_Image_Analysis/Test_Data/Tumour/Row-5_Col-11_20230224/FLT_IMG_DIR_4/6.mat\n",
      "/home/cruk/Documents/PyWS_CRUK/CRUK_Image_Analysis/Test_Data/Tumour/Row-5_Col-11_20230224/FLT_IMG_DIR_4/7.mat\n",
      "/home/cruk/Documents/PyWS_CRUK/CRUK_Image_Analysis/Test_Data/Tumour/Row-5_Col-11_20230224/FLT_IMG_DIR_4/8.mat\n",
      "Col start:0 Col stop:512\n",
      "Row start:0 Row stop:512\n",
      "Col start:0 Col stop:512\n",
      "Row start:512 Row stop:1024\n",
      "Col start:0 Col stop:512\n",
      "Row start:1024 Row stop:1536\n",
      "Col start:512 Col stop:1024\n",
      "Row start:0 Row stop:512\n",
      "Col start:512 Col stop:1024\n",
      "Row start:512 Row stop:1024\n",
      "Col start:512 Col stop:1024\n",
      "Row start:1024 Row stop:1536\n",
      "Col start:1024 Col stop:1536\n",
      "Row start:0 Row stop:512\n",
      "Col start:1024 Col stop:1536\n",
      "Row start:512 Row stop:1024\n",
      "Col start:1024 Col stop:1536\n",
      "Row start:1024 Row stop:1536\n",
      "Done\n"
     ]
    }
   ],
   "source": [
    "import scipy.io as sio\n",
    "import numpy as np\n",
    "import matplotlib.pyplot as plt\n",
    "\n",
    "import sys\n",
    "sys.path.append(\"..\")\n",
    "import resource\n",
    "resource.setrlimit(resource.RLIMIT_STACK, (2**29,-1))\n",
    "sys.setrecursionlimit(10**6)\n",
    "\n",
    "import os\n",
    "from os import listdir\n",
    "from os.path import join, isdir\n",
    "from timeit import default_timer as timer\n",
    "from scipy import ndimage as ndi\n",
    "#%%\n",
    "\n",
    "mypath='/home/cruk/Documents/PyWS_CRUK/CRUK_Image_Analysis/Test_Data/Tumour/Row-5_Col-11_20230224/FLT_IMG_DIR_4'\n",
    "# mypath='/home/cruk/Documents/PyWS_CRUK/CRUK_Image_Analysis/Test_Data/Tumour/Row-1_Col-9_20230222/FLT_IMG_DIR'\n",
    "\n",
    "# onlyfiles = [join(mypath, f) for f in listdir(mypath) if isdir(join(mypath, f))]\n",
    "onlyfiles = [join(mypath, f) for f in listdir(mypath)]\n",
    "onlyfiles.sort()\n",
    "#del onlyfiles[-1]# remove cube file from list\n",
    "onlyfiles_len=len(onlyfiles)\n",
    "\n",
    "flt_cube_list=[]\n",
    "int_cube_list=[]\n",
    "\n",
    "for tile_file in range(onlyfiles_len):\n",
    "    mat_fname=onlyfiles[tile_file]\n",
    "    print(mat_fname)\n",
    "    mat_contents = sio.loadmat(mat_fname)\n",
    "    img_flt_ref=mat_contents['img_flt']\n",
    "    img_int_ref=mat_contents['img_int']\n",
    "    img_flt=img_flt_ref[()]\n",
    "    img_int=img_int_ref[()]\n",
    "    flt_cube_list.append(img_flt)\n",
    "    int_cube_list.append(img_int)\n",
    "#%%\n",
    "cube_siz=np.shape(flt_cube_list[0])\n",
    "cube_row=cube_siz[0]*3\n",
    "cube_col=cube_siz[1]*3\n",
    "cube_page=cube_siz[2]\n",
    "\n",
    "cube_flt=np.zeros((cube_row,cube_col,cube_page))\n",
    "\n",
    "cube_int=np.zeros((cube_row,cube_col,cube_page))\n",
    "\n",
    "# row_start=[0,0,0,512,512,512,1024,1024,1024]\n",
    "# row_stop=[512,512,512,1024,1024,1024,1536,1536,1536]\n",
    "# col_start=[0,512,1024,0,512,1024,0,512,1024]\n",
    "# col_stop=[512,1024,1536,512,1024,1536,512,1024,1536]\n",
    "row_start=np.array([0,0,0,512,512,512,1024,1024,1024])\n",
    "row_stop=np.array([512,512,512,1024,1024,1024,1536,1536,1536])\n",
    "col_start=np.array([0,512,1024,0,512,1024,0,512,1024])\n",
    "col_stop=np.array([512,1024,1536,512,1024,1536,512,1024,1536])\n",
    "\n",
    "a=np.array([1,4,7,2,5,8,3,6,9])\n",
    "ai=np.argsort(a)\n",
    "row_start=row_start[ai]\n",
    "row_stop=row_stop[ai]\n",
    "col_start=col_start[ai]\n",
    "col_stop=col_stop[ai]\n",
    "\n",
    "for tile_index in range(onlyfiles_len):\n",
    "    print('Col start:%s Col stop:%s'%(col_start[tile_index],col_stop[tile_index]))\n",
    "    print('Row start:%s Row stop:%s'%(row_start[tile_index],row_stop[tile_index]))\n",
    "    flt_img_tile=flt_cube_list[tile_index]\n",
    "    int_img_tile=int_cube_list[tile_index]\n",
    "    cube_flt[row_start[tile_index]:row_stop[tile_index],col_start[tile_index]:col_stop[tile_index],:]=flt_img_tile\n",
    "    cube_int[row_start[tile_index]:row_stop[tile_index],col_start[tile_index]:col_stop[tile_index],:]=int_img_tile\n",
    "\n",
    "# matfile_filename=mypath+'/'+'cube.mat'\n",
    "# mdic={\"cube\":cube}\n",
    "# sio.savemat(matfile_filename, mdic)\n",
    "#%%\n",
    "cube_int=ndi.rotate(cube_int,90)\n",
    "cube_flt=ndi.rotate(cube_flt, 90)\n",
    "\n",
    "#for page in range(cube_page):\n",
    "#    cube_int[:,:,page]=np.fliplr(cube_int[:,:,page])\n",
    "#    cube_flt[:,:,page]=np.fliplr(cube_flt[:,:,page])\n",
    "#cube_flt[cube_flt<0]=0\n",
    "#cube_flt[cube_flt>25]=25\n",
    "for page in range(cube_page):\n",
    "    cube_int_slice=np.fliplr(cube_int[:,:,page])\n",
    "    SNR=np.sqrt(np.mean(cube_int_slice))\n",
    "    cube_int_slice[cube_int_slice<SNR]=0\n",
    "    cube_int_slice[cube_int_slice<0]=0\n",
    "    cube_int[:,:,page]=cube_int_slice\n",
    "    \n",
    "    cube_flt_slice=np.fliplr(cube_flt[:,:,page])\n",
    "    cube_flt_slice[cube_int_slice<SNR]=0\n",
    "    cube_flt_slice[cube_int_slice<0]=0\n",
    "    cube_flt_slice[cube_flt_slice<0]=0\n",
    "    cube_flt_slice[cube_flt_slice>5]=5\n",
    "    cube_flt[:,:,page]=cube_flt_slice\n",
    "print('Done')"
   ]
  },
  {
   "cell_type": "code",
   "execution_count": 2,
   "id": "8cea9658",
   "metadata": {},
   "outputs": [],
   "source": [
    "import ipywidgets as ipyw\n",
    "%matplotlib inline\n",
    "#%%\n",
    "\n",
    "class ImageSliceViewer3D:\n",
    "    \"\"\" \n",
    "    ImageSliceViewer3D is for viewing volumetric image slices in jupyter or\n",
    "    ipython notebooks. \n",
    "    \n",
    "    User can interactively change the slice plane selection for the image and \n",
    "    the slice plane being viewed. \n",
    "\n",
    "    Argumentss:\n",
    "    Volume = 3D input image\n",
    "    figsize = default(8,8), to set the size of the figure\n",
    "    cmap = default('plasma'), string for the matplotlib colormap. You can find \n",
    "    more matplotlib colormaps on the following link:\n",
    "    https://matplotlib.org/users/colormaps.html\n",
    "    \n",
    "    \"\"\"\n",
    "    \n",
    "    def __init__(self, volume, figsize=(8,8), cmap='gray'):\n",
    "        self.volume = volume\n",
    "        self.figsize = figsize\n",
    "        self.cmap = cmap\n",
    "        self.v = [np.min(volume), np.max(volume)]\n",
    "        \n",
    "        # Call to select slice plane\n",
    "        ipyw.interact(self.view_selection, view=ipyw.RadioButtons(\n",
    "            options=['x-y','y-z', 'z-x'], value='x-y', \n",
    "            description='Slice plane selection:', disabled=False,\n",
    "            style={'description_width': 'initial'}))\n",
    "    \n",
    "    def view_selection(self, view):\n",
    "        # Transpose the volume to orient according to the slice plane selection\n",
    "        orient = {\"y-z\":[1,2,0], \"z-x\":[2,0,1], \"x-y\": [0,1,2]}\n",
    "        self.vol = np.transpose(self.volume, orient[view])\n",
    "        maxZ = self.vol.shape[2] - 1\n",
    "        \n",
    "        # Call to view a slice within the selected slice plane\n",
    "        ipyw.interact(self.plot_slice, \n",
    "            z=ipyw.IntSlider(min=0, max=maxZ, step=1, continuous_update=False, \n",
    "            description='Image Slice:'))\n",
    "        \n",
    "    def plot_slice(self, z):\n",
    "        # Plot slice for the given plane and slice\n",
    "        self.fig = plt.figure(figsize=self.figsize)\n",
    "        plt.imshow(self.vol[:,:,z], cmap=plt.get_cmap(self.cmap), \n",
    "            vmin=self.v[0], vmax=self.v[1])\n",
    "        plt.colorbar()"
   ]
  },
  {
   "cell_type": "code",
   "execution_count": 3,
   "id": "be6b516a",
   "metadata": {},
   "outputs": [
    {
     "data": {
      "application/vnd.jupyter.widget-view+json": {
       "model_id": "5f9d0e0ea21f4671ada6c814128f20c1",
       "version_major": 2,
       "version_minor": 0
      },
      "text/plain": [
       "interactive(children=(RadioButtons(description='Slice plane selection:', options=('x-y', 'y-z', 'z-x'), style=…"
      ]
     },
     "metadata": {},
     "output_type": "display_data"
    },
    {
     "data": {
      "text/plain": [
       "<__main__.ImageSliceViewer3D at 0x7f6dd8b87910>"
      ]
     },
     "execution_count": 3,
     "metadata": {},
     "output_type": "execute_result"
    }
   ],
   "source": [
    "ImageSliceViewer3D(cube_int)"
   ]
  },
  {
   "cell_type": "code",
   "execution_count": 4,
   "id": "3a21b4db",
   "metadata": {},
   "outputs": [
    {
     "data": {
      "application/vnd.jupyter.widget-view+json": {
       "model_id": "01dd4d7cdd404277bce2b6bc7dd05128",
       "version_major": 2,
       "version_minor": 0
      },
      "text/plain": [
       "interactive(children=(RadioButtons(description='Slice plane selection:', options=('x-y', 'y-z', 'z-x'), style=…"
      ]
     },
     "metadata": {},
     "output_type": "display_data"
    },
    {
     "data": {
      "text/plain": [
       "<__main__.ImageSliceViewer3D at 0x7f6d72e29c90>"
      ]
     },
     "execution_count": 4,
     "metadata": {},
     "output_type": "execute_result"
    }
   ],
   "source": [
    "ImageSliceViewer3D(cube_flt)"
   ]
  },
  {
   "cell_type": "code",
   "execution_count": null,
   "id": "328cc314",
   "metadata": {},
   "outputs": [],
   "source": [
    "cube_intX=cube_int\n",
    "cube_fltX=cube_flt"
   ]
  },
  {
   "cell_type": "code",
   "execution_count": null,
   "id": "695eed14",
   "metadata": {},
   "outputs": [],
   "source": [
    "SNR=np.sqrt(np.mean(cube_intX))\n",
    "print(SNR)"
   ]
  },
  {
   "cell_type": "code",
   "execution_count": null,
   "id": "a150136c",
   "metadata": {},
   "outputs": [],
   "source": [
    "cube_intX[cube_intX<SNR]=0\n",
    "print('Done')"
   ]
  },
  {
   "cell_type": "code",
   "execution_count": null,
   "id": "a25bb436",
   "metadata": {
    "scrolled": false
   },
   "outputs": [],
   "source": [
    "ImageSliceViewer3D(cube_intX)"
   ]
  },
  {
   "cell_type": "code",
   "execution_count": null,
   "id": "f68b51fc",
   "metadata": {},
   "outputs": [],
   "source": [
    "cube_fltX[cube_intX<SNR]=0\n",
    "print('Done')"
   ]
  },
  {
   "cell_type": "code",
   "execution_count": null,
   "id": "82ab2948",
   "metadata": {},
   "outputs": [],
   "source": [
    "ImageSliceViewer3D(cube_fltX)"
   ]
  },
  {
   "cell_type": "code",
   "execution_count": null,
   "id": "d7645978",
   "metadata": {},
   "outputs": [],
   "source": []
  }
 ],
 "metadata": {
  "kernelspec": {
   "display_name": "Python 3 (ipykernel)",
   "language": "python",
   "name": "python3"
  },
  "language_info": {
   "codemirror_mode": {
    "name": "ipython",
    "version": 3
   },
   "file_extension": ".py",
   "mimetype": "text/x-python",
   "name": "python",
   "nbconvert_exporter": "python",
   "pygments_lexer": "ipython3",
   "version": "3.7.16"
  }
 },
 "nbformat": 4,
 "nbformat_minor": 5
}
